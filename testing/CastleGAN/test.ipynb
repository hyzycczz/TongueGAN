{
 "cells": [
  {
   "cell_type": "code",
   "execution_count": 7,
   "metadata": {},
   "outputs": [],
   "source": [
    "import tensorflow as tf\n",
    "from tensorflow import keras\n",
    "from tensorflow.keras import layers\n",
    "\n",
    "import yaml\n",
    "from yaml import Loader\n",
    "import cv2\n",
    "import matplotlib.pyplot as plt\n",
    "import numpy as np"
   ]
  },
  {
   "cell_type": "code",
   "execution_count": 20,
   "metadata": {},
   "outputs": [],
   "source": [
    "loss = keras.losses.BinaryCrossentropy(from_logits=False)\n",
    "\n",
    "true = np.array([[1]],dtype=np.float64)\n",
    "pred = np.linspace(0, 1, 1000,dtype=np.float64)\n",
    "L = []"
   ]
  },
  {
   "cell_type": "code",
   "execution_count": 5,
   "metadata": {},
   "outputs": [
    {
     "data": {
      "text/plain": [
       "[<matplotlib.lines.Line2D at 0x7f9320512fd0>]"
      ]
     },
     "execution_count": 5,
     "metadata": {},
     "output_type": "execute_result"
    },
    {
     "data": {
      "image/png": "[encoded data removed]",
      "text/plain": [
       "<Figure size 432x288 with 1 Axes>"
      ]
     },
     "metadata": {
      "needs_background": "light"
     },
     "output_type": "display_data"
    }
   ],
   "source": [
    "for i in pred:\n",
    "    p = [[i]]\n",
    "    L.append(loss(true,p))\n",
    "\n",
    "plt.plot(pred, L)"
   ]
  },
  {
   "cell_type": "code",
   "execution_count": 21,
   "metadata": {},
   "outputs": [
    {
     "data": {
      "text/plain": [
       "[<matplotlib.lines.Line2D at 0x7f9298651fd0>]"
      ]
     },
     "execution_count": 21,
     "metadata": {},
     "output_type": "execute_result"
    },
    {
     "data": {
      "image/png": "[encoded data removed]",
      "text/plain": [
       "<Figure size 432x288 with 1 Axes>"
      ]
     },
     "metadata": {
      "needs_background": "light"
     },
     "output_type": "display_data"
    }
   ],
   "source": [
    "true = np.array([[1]],dtype=np.float64)\n",
    "pred = np.linspace(-2, 2, 1000,dtype=np.float64)\n",
    "L = []\n",
    "for i in pred:\n",
    "    p = [[i]]\n",
    "    L.append(loss(true,p))\n",
    "\n",
    "plt.plot(pred, L)"
   ]
  },
  {
   "cell_type": "code",
   "execution_count": 5,
   "metadata": {},
   "outputs": [
    {
     "ename": "TypeError",
     "evalue": "type.__new__() argument 1 must be str, not int",
     "output_type": "error",
     "traceback": [
      "\u001b[0;31m---------------------------------------------------------------------------\u001b[0m",
      "\u001b[0;31mTypeError\u001b[0m                                 Traceback (most recent call last)",
      "\u001b[0;32m/tmp/ipykernel_327/2558056999.py\u001b[0m in \u001b[0;36m<module>\u001b[0;34m\u001b[0m\n\u001b[1;32m      1\u001b[0m \u001b[0mIMG_SHAPE\u001b[0m \u001b[0;34m=\u001b[0m \u001b[0;34m(\u001b[0m\u001b[0;36m28\u001b[0m\u001b[0;34m,\u001b[0m \u001b[0;36m28\u001b[0m\u001b[0;34m,\u001b[0m \u001b[0;36m1\u001b[0m\u001b[0;34m)\u001b[0m\u001b[0;34m\u001b[0m\u001b[0;34m\u001b[0m\u001b[0m\n\u001b[0;32m----> 2\u001b[0;31m \u001b[0mprint\u001b[0m\u001b[0;34m(\u001b[0m\u001b[0mtype\u001b[0m\u001b[0;34m(\u001b[0m\u001b[0;34m*\u001b[0m\u001b[0mIMG_SHAPE\u001b[0m\u001b[0;34m)\u001b[0m\u001b[0;34m)\u001b[0m\u001b[0;34m\u001b[0m\u001b[0;34m\u001b[0m\u001b[0m\n\u001b[0m",
      "\u001b[0;31mTypeError\u001b[0m: type.__new__() argument 1 must be str, not int"
     ]
    }
   ],
   "source": [
    "IMG_SHAPE = (28, 28, 1)\n",
    "print(type(*IMG_SHAPE))"
   ]
  },
  {
   "cell_type": "code",
   "execution_count": 9,
   "metadata": {},
   "outputs": [
    {
     "name": "stdout",
     "output_type": "stream",
     "text": [
      "Downloading data from https://storage.googleapis.com/tensorflow/tf-keras-datasets/train-images-idx3-ubyte.gz\n",
      "26427392/26421880 [==============================] - 3s 0us/step\n",
      "26435584/26421880 [==============================] - 3s 0us/step\n",
      "Downloading data from https://storage.googleapis.com/tensorflow/tf-keras-datasets/t10k-labels-idx1-ubyte.gz\n",
      "16384/5148 [===============================================================================================] - 0s 0us/step\n",
      "Downloading data from https://storage.googleapis.com/tensorflow/tf-keras-datasets/t10k-images-idx3-ubyte.gz\n",
      "4423680/4422102 [==============================] - 0s 0us/step\n",
      "4431872/4422102 [==============================] - 0s 0us/step\n",
      "Shape of the images in the dataset: (28, 28)\n"
     ]
    }
   ],
   "source": [
    "fashion_mnist = keras.datasets.fashion_mnist\n",
    "(train_images, train_labels), (test_images, test_labels) = fashion_mnist.load_data()\n",
    "print(f\"Shape of the images in the dataset: {train_images.shape[1:]}\")"
   ]
  },
  {
   "cell_type": "code",
   "execution_count": 15,
   "metadata": {},
   "outputs": [
    {
     "name": "stdout",
     "output_type": "stream",
     "text": [
      "[[  0   0   0   0   0   0   0   0   0   0   0   0   0   0   0   0   0   0\n",
      "    0   0   0   0   0   0   0   0   0   0]\n",
      " [  0   0   0   0   0   0   0   0   0   0   0   0   0   0   0   0   0   0\n",
      "    0   0   0   0   0   0   0   0   0   0]\n",
      " [  0   0   0   0   0   0   0   0   0   0   0   0   0   0   0   0   0   0\n",
      "    0   0   0   0   0   0   0   0   0   0]\n",
      " [  0   0   0   0   0   0   0   0   0   0   0   0   1   0   0  13  73   0\n",
      "    0   1   4   0   0   0   0   1   1   0]\n",
      " [  0   0   0   0   0   0   0   0   0   0   0   0   3   0  36 136 127  62\n",
      "   54   0   0   0   1   3   4   0   0   3]\n",
      " [  0   0   0   0   0   0   0   0   0   0   0   0   6   0 102 204 176 134\n",
      "  144 123  23   0   0   0   0  12  10   0]\n",
      " [  0   0   0   0   0   0   0   0   0   0   0   0   0   0 155 236 207 178\n",
      "  107 156 161 109  64  23  77 130  72  15]\n",
      " [  0   0   0   0   0   0   0   0   0   0   0   1   0  69 207 223 218 216\n",
      "  216 163 127 121 122 146 141  88 172  66]\n",
      " [  0   0   0   0   0   0   0   0   0   1   1   1   0 200 232 232 233 229\n",
      "  223 223 215 213 164 127 123 196 229   0]\n",
      " [  0   0   0   0   0   0   0   0   0   0   0   0   0 183 225 216 223 228\n",
      "  235 227 224 222 224 221 223 245 173   0]\n",
      " [  0   0   0   0   0   0   0   0   0   0   0   0   0 193 228 218 213 198\n",
      "  180 212 210 211 213 223 220 243 202   0]\n",
      " [  0   0   0   0   0   0   0   0   0   1   3   0  12 219 220 212 218 192\n",
      "  169 227 208 218 224 212 226 197 209  52]\n",
      " [  0   0   0   0   0   0   0   0   0   0   6   0  99 244 222 220 218 203\n",
      "  198 221 215 213 222 220 245 119 167  56]\n",
      " [  0   0   0   0   0   0   0   0   0   4   0   0  55 236 228 230 228 240\n",
      "  232 213 218 223 234 217 217 209  92   0]\n",
      " [  0   0   1   4   6   7   2   0   0   0   0   0 237 226 217 223 222 219\n",
      "  222 221 216 223 229 215 218 255  77   0]\n",
      " [  0   3   0   0   0   0   0   0   0  62 145 204 228 207 213 221 218 208\n",
      "  211 218 224 223 219 215 224 244 159   0]\n",
      " [  0   0   0   0  18  44  82 107 189 228 220 222 217 226 200 205 211 230\n",
      "  224 234 176 188 250 248 233 238 215   0]\n",
      " [  0  57 187 208 224 221 224 208 204 214 208 209 200 159 245 193 206 223\n",
      "  255 255 221 234 221 211 220 232 246   0]\n",
      " [  3 202 228 224 221 211 211 214 205 205 205 220 240  80 150 255 229 221\n",
      "  188 154 191 210 204 209 222 228 225   0]\n",
      " [ 98 233 198 210 222 229 229 234 249 220 194 215 217 241  65  73 106 117\n",
      "  168 219 221 215 217 223 223 224 229  29]\n",
      " [ 75 204 212 204 193 205 211 225 216 185 197 206 198 213 240 195 227 245\n",
      "  239 223 218 212 209 222 220 221 230  67]\n",
      " [ 48 203 183 194 213 197 185 190 194 192 202 214 219 221 220 236 225 216\n",
      "  199 206 186 181 177 172 181 205 206 115]\n",
      " [  0 122 219 193 179 171 183 196 204 210 213 207 211 210 200 196 194 191\n",
      "  195 191 198 192 176 156 167 177 210  92]\n",
      " [  0   0  74 189 212 191 175 172 175 181 185 188 189 188 193 198 204 209\n",
      "  210 210 211 188 188 194 192 216 170   0]\n",
      " [  2   0   0   0  66 200 222 237 239 242 246 243 244 221 220 193 191 179\n",
      "  182 182 181 176 166 168  99  58   0   0]\n",
      " [  0   0   0   0   0   0   0  40  61  44  72  41  35   0   0   0   0   0\n",
      "    0   0   0   0   0   0   0   0   0   0]\n",
      " [  0   0   0   0   0   0   0   0   0   0   0   0   0   0   0   0   0   0\n",
      "    0   0   0   0   0   0   0   0   0   0]\n",
      " [  0   0   0   0   0   0   0   0   0   0   0   0   0   0   0   0   0   0\n",
      "    0   0   0   0   0   0   0   0   0   0]]\n",
      "(1,)\n",
      "tf.Tensor(\n",
      "[[ -0.6537577  -0.6537577  -0.6537577  -0.6537577  -0.6537577  -0.6537577\n",
      "   -0.6537577  -0.6537577  -0.6537577  -0.6537577  -0.6537577  -0.6537577\n",
      "   -0.6537577  -0.6537577  -0.6537577  -0.6537577  -0.6537577  -0.6537577\n",
      "   -0.6537577  -0.6537577  -0.6537577  -0.6537577  -0.6537577  -0.6537577\n",
      "   -0.6537577  -0.6537577  -0.6537577  -0.6537577]\n",
      " [ -0.6537577  -0.6537577  -0.6537577  -0.6537577  -0.6537577  -0.6537577\n",
      "   -0.6537577  -0.6537577  -0.6537577  -0.6537577  -0.6537577  -0.6537577\n",
      "   -0.6537577  -0.6537577  -0.6537577  -0.6537577  -0.6537577  -0.6537577\n",
      "   -0.6537577  -0.6537577  -0.6537577  -0.6537577  -0.6537577  -0.6537577\n",
      "   -0.6537577  -0.6537577  -0.6537577  -0.6537577]\n",
      " [ -0.6537577  -0.6537577  -0.6537577  -0.6537577  -0.6537577  -0.6537577\n",
      "   -0.6537577  -0.6537577  -0.6537577  -0.6537577  -0.6537577  -0.6537577\n",
      "   -0.6537577  -0.6537577  -0.6537577  -0.6537577  -0.6537577  -0.6537577\n",
      "   -0.6537577  -0.6537577  -0.6537577  -0.6537577  -0.6537577  -0.6537577\n",
      "   -0.6537577  -0.6537577  -0.6537577  -0.6537577]\n",
      " [ -0.6537577  -0.6537577  -0.6537577  -0.6537577  -0.6537577  -0.6537577\n",
      "   -0.6537577  -0.6537577  -0.6537577  -0.6537577  -0.6537577  -0.6537577\n",
      "    0.3462423  -0.6537577  -0.6537577  12.346242   72.346245   -0.6537577\n",
      "   -0.6537577   0.3462423   3.3462424  -0.6537577  -0.6537577  -0.6537577\n",
      "   -0.6537577   0.3462423   0.3462423  -0.6537577]\n",
      " [ -0.6537577  -0.6537577  -0.6537577  -0.6537577  -0.6537577  -0.6537577\n",
      "   -0.6537577  -0.6537577  -0.6537577  -0.6537577  -0.6537577  -0.6537577\n",
      "    2.3462424  -0.6537577  35.34624   135.34624   126.346245   61.34624\n",
      "   53.34624    -0.6537577  -0.6537577  -0.6537577   0.3462423   2.3462424\n",
      "    3.3462424  -0.6537577  -0.6537577   2.3462424]\n",
      " [ -0.6537577  -0.6537577  -0.6537577  -0.6537577  -0.6537577  -0.6537577\n",
      "   -0.6537577  -0.6537577  -0.6537577  -0.6537577  -0.6537577  -0.6537577\n",
      "    5.3462424  -0.6537577 101.346245  203.34624   175.34624   133.34624\n",
      "  143.34624   122.346245   22.346243   -0.6537577  -0.6537577  -0.6537577\n",
      "   -0.6537577  11.346242    9.346242   -0.6537577]\n",
      " [ -0.6537577  -0.6537577  -0.6537577  -0.6537577  -0.6537577  -0.6537577\n",
      "   -0.6537577  -0.6537577  -0.6537577  -0.6537577  -0.6537577  -0.6537577\n",
      "   -0.6537577  -0.6537577 154.34624   235.34624   206.34624   177.34624\n",
      "  106.346245  155.34624   160.34624   108.346245   63.34624    22.346243\n",
      "   76.346245  129.34624    71.346245   14.346242 ]\n",
      " [ -0.6537577  -0.6537577  -0.6537577  -0.6537577  -0.6537577  -0.6537577\n",
      "   -0.6537577  -0.6537577  -0.6537577  -0.6537577  -0.6537577   0.3462423\n",
      "   -0.6537577  68.346245  206.34624   222.34624   217.34624   215.34624\n",
      "  215.34624   162.34624   126.346245  120.346245  121.346245  145.34624\n",
      "  140.34624    87.346245  171.34624    65.346245 ]\n",
      " [ -0.6537577  -0.6537577  -0.6537577  -0.6537577  -0.6537577  -0.6537577\n",
      "   -0.6537577  -0.6537577  -0.6537577   0.3462423   0.3462423   0.3462423\n",
      "   -0.6537577 199.34624   231.34624   231.34624   232.34624   228.34624\n",
      "  222.34624   222.34624   214.34624   212.34624   163.34624   126.346245\n",
      "  122.346245  195.34624   228.34624    -0.6537577]\n",
      " [ -0.6537577  -0.6537577  -0.6537577  -0.6537577  -0.6537577  -0.6537577\n",
      "   -0.6537577  -0.6537577  -0.6537577  -0.6537577  -0.6537577  -0.6537577\n",
      "   -0.6537577 182.34624   224.34624   215.34624   222.34624   227.34624\n",
      "  234.34624   226.34624   223.34624   221.34624   223.34624   220.34624\n",
      "  222.34624   244.34624   172.34624    -0.6537577]\n",
      " [ -0.6537577  -0.6537577  -0.6537577  -0.6537577  -0.6537577  -0.6537577\n",
      "   -0.6537577  -0.6537577  -0.6537577  -0.6537577  -0.6537577  -0.6537577\n",
      "   -0.6537577 192.34624   227.34624   217.34624   212.34624   197.34624\n",
      "  179.34624   211.34624   209.34624   210.34624   212.34624   222.34624\n",
      "  219.34624   242.34624   201.34624    -0.6537577]\n",
      " [ -0.6537577  -0.6537577  -0.6537577  -0.6537577  -0.6537577  -0.6537577\n",
      "   -0.6537577  -0.6537577  -0.6537577   0.3462423   2.3462424  -0.6537577\n",
      "   11.346242  218.34624   219.34624   211.34624   217.34624   191.34624\n",
      "  168.34624   226.34624   207.34624   217.34624   223.34624   211.34624\n",
      "  225.34624   196.34624   208.34624    51.34624  ]\n",
      " [ -0.6537577  -0.6537577  -0.6537577  -0.6537577  -0.6537577  -0.6537577\n",
      "   -0.6537577  -0.6537577  -0.6537577  -0.6537577   5.3462424  -0.6537577\n",
      "   98.346245  243.34624   221.34624   219.34624   217.34624   202.34624\n",
      "  197.34624   220.34624   214.34624   212.34624   221.34624   219.34624\n",
      "  244.34624   118.346245  166.34624    55.34624  ]\n",
      " [ -0.6537577  -0.6537577  -0.6537577  -0.6537577  -0.6537577  -0.6537577\n",
      "   -0.6537577  -0.6537577  -0.6537577   3.3462424  -0.6537577  -0.6537577\n",
      "   54.34624   235.34624   227.34624   229.34624   227.34624   239.34624\n",
      "  231.34624   212.34624   217.34624   222.34624   233.34624   216.34624\n",
      "  216.34624   208.34624    91.346245   -0.6537577]\n",
      " [ -0.6537577  -0.6537577   0.3462423   3.3462424   5.3462424   6.3462424\n",
      "    1.3462423  -0.6537577  -0.6537577  -0.6537577  -0.6537577  -0.6537577\n",
      "  236.34624   225.34624   216.34624   222.34624   221.34624   218.34624\n",
      "  221.34624   220.34624   215.34624   222.34624   228.34624   214.34624\n",
      "  217.34624   254.34624    76.346245   -0.6537577]\n",
      " [ -0.6537577   2.3462424  -0.6537577  -0.6537577  -0.6537577  -0.6537577\n",
      "   -0.6537577  -0.6537577  -0.6537577  61.34624   144.34624   203.34624\n",
      "  227.34624   206.34624   212.34624   220.34624   217.34624   207.34624\n",
      "  210.34624   217.34624   223.34624   222.34624   218.34624   214.34624\n",
      "  223.34624   243.34624   158.34624    -0.6537577]\n",
      " [ -0.6537577  -0.6537577  -0.6537577  -0.6537577  17.346243   43.34624\n",
      "   81.346245  106.346245  188.34624   227.34624   219.34624   221.34624\n",
      "  216.34624   225.34624   199.34624   204.34624   210.34624   229.34624\n",
      "  223.34624   233.34624   175.34624   187.34624   249.34624   247.34624\n",
      "  232.34624   237.34624   214.34624    -0.6537577]\n",
      " [ -0.6537577  56.34624   186.34624   207.34624   223.34624   220.34624\n",
      "  223.34624   207.34624   203.34624   213.34624   207.34624   208.34624\n",
      "  199.34624   158.34624   244.34624   192.34624   205.34624   222.34624\n",
      "  254.34624   254.34624   220.34624   233.34624   220.34624   210.34624\n",
      "  219.34624   231.34624   245.34624    -0.6537577]\n",
      " [  2.3462424 201.34624   227.34624   223.34624   220.34624   210.34624\n",
      "  210.34624   213.34624   204.34624   204.34624   204.34624   219.34624\n",
      "  239.34624    79.346245  149.34624   254.34624   228.34624   220.34624\n",
      "  187.34624   153.34624   190.34624   209.34624   203.34624   208.34624\n",
      "  221.34624   227.34624   224.34624    -0.6537577]\n",
      " [ 97.346245  232.34624   197.34624   209.34624   221.34624   228.34624\n",
      "  228.34624   233.34624   248.34624   219.34624   193.34624   214.34624\n",
      "  216.34624   240.34624    64.346245   72.346245  105.346245  116.346245\n",
      "  167.34624   218.34624   220.34624   214.34624   216.34624   222.34624\n",
      "  222.34624   223.34624   228.34624    28.346243 ]\n",
      " [ 74.346245  203.34624   211.34624   203.34624   192.34624   204.34624\n",
      "  210.34624   224.34624   215.34624   184.34624   196.34624   205.34624\n",
      "  197.34624   212.34624   239.34624   194.34624   226.34624   244.34624\n",
      "  238.34624   222.34624   217.34624   211.34624   208.34624   221.34624\n",
      "  219.34624   220.34624   229.34624    66.346245 ]\n",
      " [ 47.34624   202.34624   182.34624   193.34624   212.34624   196.34624\n",
      "  184.34624   189.34624   193.34624   191.34624   201.34624   213.34624\n",
      "  218.34624   220.34624   219.34624   235.34624   224.34624   215.34624\n",
      "  198.34624   205.34624   185.34624   180.34624   176.34624   171.34624\n",
      "  180.34624   204.34624   205.34624   114.346245 ]\n",
      " [ -0.6537577 121.346245  218.34624   192.34624   178.34624   170.34624\n",
      "  182.34624   195.34624   203.34624   209.34624   212.34624   206.34624\n",
      "  210.34624   209.34624   199.34624   195.34624   193.34624   190.34624\n",
      "  194.34624   190.34624   197.34624   191.34624   175.34624   155.34624\n",
      "  166.34624   176.34624   209.34624    91.346245 ]\n",
      " [ -0.6537577  -0.6537577  73.346245  188.34624   211.34624   190.34624\n",
      "  174.34624   171.34624   174.34624   180.34624   184.34624   187.34624\n",
      "  188.34624   187.34624   192.34624   197.34624   203.34624   208.34624\n",
      "  209.34624   209.34624   210.34624   187.34624   187.34624   193.34624\n",
      "  191.34624   215.34624   169.34624    -0.6537577]\n",
      " [  1.3462423  -0.6537577  -0.6537577  -0.6537577  65.346245  199.34624\n",
      "  221.34624   236.34624   238.34624   241.34624   245.34624   242.34624\n",
      "  243.34624   220.34624   219.34624   192.34624   190.34624   178.34624\n",
      "  181.34624   181.34624   180.34624   175.34624   165.34624   167.34624\n",
      "   98.346245   57.34624    -0.6537577  -0.6537577]\n",
      " [ -0.6537577  -0.6537577  -0.6537577  -0.6537577  -0.6537577  -0.6537577\n",
      "   -0.6537577  39.34624    60.34624    43.34624    71.346245   40.34624\n",
      "   34.34624    -0.6537577  -0.6537577  -0.6537577  -0.6537577  -0.6537577\n",
      "   -0.6537577  -0.6537577  -0.6537577  -0.6537577  -0.6537577  -0.6537577\n",
      "   -0.6537577  -0.6537577  -0.6537577  -0.6537577]\n",
      " [ -0.6537577  -0.6537577  -0.6537577  -0.6537577  -0.6537577  -0.6537577\n",
      "   -0.6537577  -0.6537577  -0.6537577  -0.6537577  -0.6537577  -0.6537577\n",
      "   -0.6537577  -0.6537577  -0.6537577  -0.6537577  -0.6537577  -0.6537577\n",
      "   -0.6537577  -0.6537577  -0.6537577  -0.6537577  -0.6537577  -0.6537577\n",
      "   -0.6537577  -0.6537577  -0.6537577  -0.6537577]\n",
      " [ -0.6537577  -0.6537577  -0.6537577  -0.6537577  -0.6537577  -0.6537577\n",
      "   -0.6537577  -0.6537577  -0.6537577  -0.6537577  -0.6537577  -0.6537577\n",
      "   -0.6537577  -0.6537577  -0.6537577  -0.6537577  -0.6537577  -0.6537577\n",
      "   -0.6537577  -0.6537577  -0.6537577  -0.6537577  -0.6537577  -0.6537577\n",
      "   -0.6537577  -0.6537577  -0.6537577  -0.6537577]], shape=(28, 28), dtype=float32)\n"
     ]
    }
   ],
   "source": [
    "img = train_images[0]\n",
    "img.reshape((28,28,1)).astype('float32')\n",
    "print(img)\n",
    "rng = tf.random.normal((1,),0.0, 1.0)\n",
    "print(rng.shape)\n",
    "new = img + rng\n",
    "print(new)"
   ]
  }
 ],
 "metadata": {
  "interpreter": {
   "hash": "941c29b67e2832d9853fcca68211864b6a3ce94cf618d80dbc84fcce13a7fd26"
  },
  "kernelspec": {
   "display_name": "Python 3.8.10 64-bit ('venv': venv)",
   "language": "python",
   "name": "python3"
  },
  "language_info": {
   "codemirror_mode": {
    "name": "ipython",
    "version": 3
   },
   "file_extension": ".py",
   "mimetype": "text/x-python",
   "name": "python",
   "nbconvert_exporter": "python",
   "pygments_lexer": "ipython3",
   "version": "3.8.10"
  },
  "orig_nbformat": 4
 },
 "nbformat": 4,
 "nbformat_minor": 2
}
