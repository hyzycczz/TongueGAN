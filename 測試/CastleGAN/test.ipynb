{
 "cells": [
  {
   "cell_type": "code",
   "execution_count": 1,
   "metadata": {},
   "outputs": [],
   "source": [
    "import tensorflow as tf\n",
    "from tensorflow import keras\n",
    "from tensorflow.keras import layers\n",
    "\n",
    "import yaml\n",
    "from yaml import Loader\n",
    "import cv2\n",
    "import matplotlib.pyplot as plt\n",
    "import numpy as np"
   ]
  },
  {
   "cell_type": "code",
   "execution_count": 20,
   "metadata": {},
   "outputs": [],
   "source": [
    "loss = keras.losses.BinaryCrossentropy(from_logits=False)\n",
    "\n",
    "true = np.array([[1]],dtype=np.float64)\n",
    "pred = np.linspace(0, 1, 1000,dtype=np.float64)\n",
    "L = []"
   ]
  },
  {
   "cell_type": "code",
   "execution_count": 5,
   "metadata": {},
   "outputs": [
    {
     "data": {
      "text/plain": [
       "[<matplotlib.lines.Line2D at 0x7f9320512fd0>]"
      ]
     },
     "execution_count": 5,
     "metadata": {},
     "output_type": "execute_result"
    },
    {
     "data": {
      "image/png": "[encoded data removed]",
      "text/plain": [
       "<Figure size 432x288 with 1 Axes>"
      ]
     },
     "metadata": {
      "needs_background": "light"
     },
     "output_type": "display_data"
    }
   ],
   "source": [
    "for i in pred:\n",
    "    p = [[i]]\n",
    "    L.append(loss(true,p))\n",
    "\n",
    "plt.plot(pred, L)"
   ]
  },
  {
   "cell_type": "code",
   "execution_count": 21,
   "metadata": {},
   "outputs": [
    {
     "data": {
      "text/plain": [
       "[<matplotlib.lines.Line2D at 0x7f9298651fd0>]"
      ]
     },
     "execution_count": 21,
     "metadata": {},
     "output_type": "execute_result"
    },
    {
     "data": {
      "image/png": "[encoded data removed]",
      "text/plain": [
       "<Figure size 432x288 with 1 Axes>"
      ]
     },
     "metadata": {
      "needs_background": "light"
     },
     "output_type": "display_data"
    }
   ],
   "source": [
    "true = np.array([[1]],dtype=np.float64)\n",
    "pred = np.linspace(-2, 2, 1000,dtype=np.float64)\n",
    "L = []\n",
    "for i in pred:\n",
    "    p = [[i]]\n",
    "    L.append(loss(true,p))\n",
    "\n",
    "plt.plot(pred, L)"
   ]
  },
  {
   "cell_type": "code",
   "execution_count": 27,
   "metadata": {},
   "outputs": [
    {
     "name": "stdout",
     "output_type": "stream",
     "text": [
      "[[16.11809585]]\n"
     ]
    }
   ],
   "source": [
    "def BinaryCrossEntropy(y_true, y_pred):\n",
    "    m = y_true.shape[1]\n",
    "    y_pred = np.clip(y_pred, 1e-7, 1 - 1e-7)\n",
    "    # Calculating loss\n",
    "    loss = -1/m * (np.dot(y_true.T, np.log(y_pred)) )\n",
    "\n",
    "    return loss\n",
    "\n",
    "print(BinaryCrossEntropy(np.array([1, 1, 1]).reshape(-1, 1), np.array([1, 1, 0]).reshape(-1, 1)))"
   ]
  },
  {
   "cell_type": "code",
   "execution_count": 32,
   "metadata": {},
   "outputs": [
    {
     "name": "stderr",
     "output_type": "stream",
     "text": [
      "/tmp/ipykernel_7636/3072882547.py:3: RuntimeWarning: divide by zero encountered in log\n",
      "  np.dot(true.T, np.log(pred))* -1/3\n"
     ]
    },
    {
     "data": {
      "text/plain": [
       "array([[inf]])"
      ]
     },
     "execution_count": 32,
     "metadata": {},
     "output_type": "execute_result"
    }
   ],
   "source": [
    "true = np.array([1, 1, 1]).reshape(-1, 1)\n",
    "pred = np.array([1, 1, 0]).reshape(-1, 1)\n",
    "np.dot(true.T, np.log(pred))* -1/3"
   ]
  }
 ],
 "metadata": {
  "interpreter": {
   "hash": "941c29b67e2832d9853fcca68211864b6a3ce94cf618d80dbc84fcce13a7fd26"
  },
  "kernelspec": {
   "display_name": "Python 3.8.10 64-bit ('venv': venv)",
   "language": "python",
   "name": "python3"
  },
  "language_info": {
   "codemirror_mode": {
    "name": "ipython",
    "version": 3
   },
   "file_extension": ".py",
   "mimetype": "text/x-python",
   "name": "python",
   "nbconvert_exporter": "python",
   "pygments_lexer": "ipython3",
   "version": "3.8.10"
  },
  "orig_nbformat": 4
 },
 "nbformat": 4,
 "nbformat_minor": 2
}
